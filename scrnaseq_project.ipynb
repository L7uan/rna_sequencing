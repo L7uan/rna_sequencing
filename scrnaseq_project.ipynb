{
 "cells": [
  {
   "cell_type": "markdown",
   "metadata": {},
   "source": [
    "# **Single-Cell RNA-Seq Analysis Project**"
   ]
  },
  {
   "cell_type": "markdown",
   "metadata": {},
   "source": [
    "In this project, you will work with the `norman` dataset from the `perturbation_data_analysis` exercise:"
   ]
  },
  {
   "cell_type": "code",
   "execution_count": 1,
   "metadata": {},
   "outputs": [
    {
     "name": "stdout",
     "output_type": "stream",
     "text": [
      "Creating dataset directory: data/original/norman\n",
      "Downloading dataset: norman\n",
      "Downloading: https://seafile.cloud.uni-hannover.de/d/5d6029c6eaaf410c8b01/files/?p=%2Fperturbation_data_analysis%2Fnorman%2Fperturb_processed.h5ad&dl=1 -> data/original/norman/perturb_processed.h5ad\n",
      "Total size: 2,228,610,012 bytes\n"
     ]
    },
    {
     "name": "stderr",
     "output_type": "stream",
     "text": [
      "100%|██████████| 2.23G/2.23G [03:26<00:00, 10.8MiB/s]\n"
     ]
    },
    {
     "name": "stdout",
     "output_type": "stream",
     "text": [
      "Download completed: data/original/norman/perturb_processed.h5ad\n",
      "Loading dataset: norman\n",
      "PertData object\n",
      "    name: norman\n",
      "    path: data/original/norman\n",
      "    adata: AnnData object with n_obs x n_vars = 91205 x 5045\n"
     ]
    }
   ],
   "source": [
    "from data.original import pertdata as pt  # noqa: E402\n",
    "norman = pt.PertData.from_repo(name=\"norman\", save_dir=\"data/original\")\n",
    "print(norman)"
   ]
  },
  {
   "cell_type": "markdown",
   "metadata": {},
   "source": [
    "Choose one of the following tasks:\n",
    "\n",
    "**Exploratory Data Analysis and Visualization**\n",
    "\n",
    "- Objective: Explore the dataset to identify patterns and clusters.\n",
    "- Tasks:\n",
    "  - Perform dimensionality reduction using PCA, t-SNE, or UMAP.\n",
    "  - Visualize gene expression profiles across different conditions or perturbations.\n",
    "  - Create heatmaps of the top differentially expressed genes.\n",
    "- Learning Outcomes:\n",
    "  - Learn to visualize high-dimensional data.\n",
    "  - Interpret clusters and patterns in the context of biological conditions.\n",
    "\n",
    "**Machine Learning Classification**\n",
    "\n",
    "- Objective: Build models to classify samples based on gene expression profiles.\n",
    "- Tasks:\n",
    "  - Split the dataset into training and testing sets.\n",
    "  - Implement classification algorithms.\n",
    "  - Evaluate model performance using metrics like accuracy, precision, recall, and ROC curves.\n",
    "- Learning Outcomes:\n",
    "  - Understand supervised learning techniques.\n",
    "  - Learn model evaluation and validation strategies.\n",
    "\n",
    "**Advanced Deep Learning Applications**\n",
    "\n",
    "- Objective: Apply deep learning techniques to model complex patterns in the data.\n",
    "- Tasks:\n",
    "  - Implement autoencoders or variational autoencoders for dimensionality reduction.\n",
    "  - Explore the use of GANs to generate synthetic gene expression data.\n",
    "  - Analyze how deep learning models capture nonlinear relationships.\n",
    "- Learning Outcomes:\n",
    "  - Gain experience with deep learning frameworks.\n",
    "  - Understand the applications of deep learning in genomics."
   ]
  }
 ],
 "metadata": {
  "kernelspec": {
   "display_name": ".venv",
   "language": "python",
   "name": "python3"
  },
  "language_info": {
   "codemirror_mode": {
    "name": "ipython",
    "version": 3
   },
   "file_extension": ".py",
   "mimetype": "text/x-python",
   "name": "python",
   "nbconvert_exporter": "python",
   "pygments_lexer": "ipython3",
   "version": "3.10.15"
  }
 },
 "nbformat": 4,
 "nbformat_minor": 2
}
